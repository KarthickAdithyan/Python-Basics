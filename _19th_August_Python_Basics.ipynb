{
 "cells": [
  {
   "cell_type": "markdown",
   "id": "14c03a91-5562-42ed-9d5b-f435f6b82c1b",
   "metadata": {},
   "source": [
    "Python Basic Variables:\n",
    "1.Declaring and assigning values to variable x and y "
   ]
  },
  {
   "cell_type": "code",
   "execution_count": 1,
   "id": "40449836-b615-48d5-8ce6-61259bf3e1b0",
   "metadata": {},
   "outputs": [],
   "source": [
    "x = 5 "
   ]
  },
  {
   "cell_type": "code",
   "execution_count": 2,
   "id": "ee16aa60-8957-41a3-8829-097ff000fa1f",
   "metadata": {},
   "outputs": [],
   "source": [
    "y = 10"
   ]
  },
  {
   "cell_type": "markdown",
   "id": "7bc5a1a5-c6a7-45e9-bd8a-84b07f18a076",
   "metadata": {},
   "source": [
    "Swapping the values without using any temporary variable "
   ]
  },
  {
   "cell_type": "code",
   "execution_count": 3,
   "id": "6bbf7579-02d0-441e-96d9-8eec30070d84",
   "metadata": {},
   "outputs": [],
   "source": [
    "x, y = y,x"
   ]
  },
  {
   "cell_type": "code",
   "execution_count": 4,
   "id": "241b3bb7-ae0a-4165-ac03-1212b20ed7a2",
   "metadata": {},
   "outputs": [
    {
     "data": {
      "text/plain": [
       "10"
      ]
     },
     "execution_count": 4,
     "metadata": {},
     "output_type": "execute_result"
    }
   ],
   "source": [
    "x"
   ]
  },
  {
   "cell_type": "code",
   "execution_count": 5,
   "id": "eff3e1fc-38ae-451f-af03-86e1c4b42e24",
   "metadata": {},
   "outputs": [
    {
     "data": {
      "text/plain": [
       "5"
      ]
     },
     "execution_count": 5,
     "metadata": {},
     "output_type": "execute_result"
    }
   ],
   "source": [
    "y"
   ]
  },
  {
   "cell_type": "markdown",
   "id": "5efc7be3-e542-4464-a72e-834c43042c3d",
   "metadata": {},
   "source": [
    "Hence the swapped values are displayed above "
   ]
  },
  {
   "cell_type": "markdown",
   "id": "dc8e7f34-4ad9-43e7-b6fd-0e799bf86a6c",
   "metadata": {},
   "source": [
    "2.Program that calculates the area of a rectangle. Take the length and\n",
    "width as inputs from the user and store them in variables. Calculate and\n",
    "display the area."
   ]
  },
  {
   "cell_type": "markdown",
   "id": "441c9d16-ee51-4894-9ff0-4cd7229fe003",
   "metadata": {},
   "source": [
    "Taking input for length and width from the user "
   ]
  },
  {
   "cell_type": "code",
   "execution_count": 7,
   "id": "907a69f6-70a3-4acc-9701-e639ca5123b4",
   "metadata": {},
   "outputs": [
    {
     "name": "stdin",
     "output_type": "stream",
     "text": [
      "Enter the length of the rectangle 15\n"
     ]
    }
   ],
   "source": [
    "length = float(input(\"Enter the length of the rectangle\"))"
   ]
  },
  {
   "cell_type": "code",
   "execution_count": 8,
   "id": "36f83a2c-fa93-4356-ac82-2b6a302d7707",
   "metadata": {},
   "outputs": [
    {
     "name": "stdin",
     "output_type": "stream",
     "text": [
      "Enter the width of the rectangle 12\n"
     ]
    }
   ],
   "source": [
    "width = float(input(\"Enter the width of the rectangle\"))"
   ]
  },
  {
   "cell_type": "code",
   "execution_count": 9,
   "id": "24a755d1-7a88-40f1-8dcd-e492302fe3ab",
   "metadata": {},
   "outputs": [],
   "source": [
    "area = length*width"
   ]
  },
  {
   "cell_type": "code",
   "execution_count": 10,
   "id": "0676d9aa-9e1a-4098-a621-f1df014fd584",
   "metadata": {},
   "outputs": [
    {
     "data": {
      "text/plain": [
       "180.0"
      ]
     },
     "execution_count": 10,
     "metadata": {},
     "output_type": "execute_result"
    }
   ],
   "source": [
    "area"
   ]
  },
  {
   "cell_type": "markdown",
   "id": "0ce22908-75f3-4c45-af4e-e9dcd21f6770",
   "metadata": {},
   "source": [
    "In this program, input() function is used to take user input for the length and width of the rectangle. float() is used to convert the user input from string to floating-point numbers, assuming that the length and width can be decimal values. The area is calculated using the formula area = length * width"
   ]
  },
  {
   "cell_type": "markdown",
   "id": "da2dfd82-8bcf-4efd-aa33-aedbb16c7e28",
   "metadata": {},
   "source": [
    "3.Python program that converts temperatures from Celsius to\n",
    "Fahrenheit. Take the temperature in Celsius as input, store it in a variable,\n",
    "convert it to Fahrenheit, and display the result."
   ]
  },
  {
   "cell_type": "code",
   "execution_count": 12,
   "id": "541c332c-0d7c-4c9f-93aa-54bcdd716cb7",
   "metadata": {},
   "outputs": [
    {
     "name": "stdin",
     "output_type": "stream",
     "text": [
      "Enter the temprature in celsius: 32\n"
     ]
    }
   ],
   "source": [
    "celsius = float(input(\"Enter the temprature in celsius:\"))"
   ]
  },
  {
   "cell_type": "code",
   "execution_count": 13,
   "id": "e12877b2-9d4a-4a0b-9c36-04882f14ae55",
   "metadata": {},
   "outputs": [],
   "source": [
    "fahrenheit = (celsius * 9/5) + 32"
   ]
  },
  {
   "cell_type": "code",
   "execution_count": 14,
   "id": "a44d2702-a8a5-4676-ac37-73ff390988b3",
   "metadata": {},
   "outputs": [
    {
     "data": {
      "text/plain": [
       "89.6"
      ]
     },
     "execution_count": 14,
     "metadata": {},
     "output_type": "execute_result"
    }
   ],
   "source": [
    "fahrenheit "
   ]
  },
  {
   "cell_type": "markdown",
   "id": "456cf00b-181c-45d3-92d9-b622369038ee",
   "metadata": {},
   "source": [
    "In this program, the input() function is used to take the temperature in Celsius as input from the user. The temperature in Celsius is then converted to Fahrenheit using the formula F = (C * 9/5) + 32."
   ]
  },
  {
   "cell_type": "markdown",
   "id": "ebd0d59e-121a-45d2-864e-47b910b9a8f0",
   "metadata": {},
   "source": [
    "String based Questions "
   ]
  },
  {
   "cell_type": "markdown",
   "id": "a4830ae3-a0a4-4074-aa07-6e4d34b84222",
   "metadata": {},
   "source": [
    "1.Python program that takes a string as input and prints the length of\n",
    "the string."
   ]
  },
  {
   "cell_type": "code",
   "execution_count": 4,
   "id": "dc93732d-b527-43f7-888c-e37b166f386d",
   "metadata": {},
   "outputs": [
    {
     "name": "stdin",
     "output_type": "stream",
     "text": [
      "Enter the string: karthick\n"
     ]
    }
   ],
   "source": [
    "input_string = input(\"Enter the string:\")"
   ]
  },
  {
   "cell_type": "code",
   "execution_count": 7,
   "id": "29625fa7-9a70-4544-ad44-770de681d485",
   "metadata": {},
   "outputs": [],
   "source": [
    "length = len(input_string)"
   ]
  },
  {
   "cell_type": "code",
   "execution_count": 8,
   "id": "60447fa0-acd9-4874-b737-22b9425c7afa",
   "metadata": {},
   "outputs": [
    {
     "data": {
      "text/plain": [
       "8"
      ]
     },
     "execution_count": 8,
     "metadata": {},
     "output_type": "execute_result"
    }
   ],
   "source": [
    "length"
   ]
  },
  {
   "cell_type": "markdown",
   "id": "e964ab4b-03cc-409b-a33e-68add871b6ce",
   "metadata": {},
   "source": [
    "In this program, the input() function is used to take a string as input from the user. The len() function is then used to calculate the length of the input string"
   ]
  },
  {
   "cell_type": "markdown",
   "id": "d2a3ac03-0152-4b77-8fb0-9730975d8b62",
   "metadata": {},
   "source": [
    "2.Program that takes a sentence from the user and counts the number\n",
    "of vowels (a, e, i, o, u) in the string."
   ]
  },
  {
   "cell_type": "code",
   "execution_count": 7,
   "id": "b0bdec09-abaa-41ce-9025-81fe6ed9654f",
   "metadata": {},
   "outputs": [
    {
     "name": "stdin",
     "output_type": "stream",
     "text": [
      "Enter the sentence:  this is my first python assignment \n"
     ]
    }
   ],
   "source": [
    "sentence = input(\"Enter the sentence: \")"
   ]
  },
  {
   "cell_type": "code",
   "execution_count": 6,
   "id": "0270e33a-ad0a-4d69-ba99-4cf160be4a1e",
   "metadata": {},
   "outputs": [],
   "source": [
    "sentence = sentence.lower()"
   ]
  },
  {
   "cell_type": "code",
   "execution_count": 5,
   "id": "357cc9d2-459d-40da-a5d9-c31266debce0",
   "metadata": {},
   "outputs": [],
   "source": [
    "vowel_count = 0"
   ]
  },
  {
   "cell_type": "code",
   "execution_count": 10,
   "id": "07b092ee-0202-4cd4-b9f6-0271ab100d16",
   "metadata": {},
   "outputs": [],
   "source": [
    "for char in sentence:\n",
    "    if char in \"aeiou\":\n",
    "        vowel_count +=1"
   ]
  },
  {
   "cell_type": "code",
   "execution_count": 11,
   "id": "34d0c723-eb12-448a-86e2-35a255a6f634",
   "metadata": {},
   "outputs": [
    {
     "data": {
      "text/plain": [
       "7"
      ]
     },
     "execution_count": 11,
     "metadata": {},
     "output_type": "execute_result"
    }
   ],
   "source": [
    "vowel_count"
   ]
  },
  {
   "cell_type": "markdown",
   "id": "80c5728a-7c78-4d57-8cac-ca58ef8d9f3a",
   "metadata": {},
   "source": [
    "In this program, the input() function is used to take a sentence as input from the user. The lower() method is used to convert the sentence to lowercase, making the counting case-insensitive. The program then iterates through each character in the sentence and checks if it is a vowel (a, e, i, o, u). If a character is a vowel, the vowel_count variable is incremented. Finally, the program prints the number of vowels in the sentence.\n",
    "\n",
    "\n",
    "\n",
    "\n"
   ]
  },
  {
   "cell_type": "markdown",
   "id": "0520eb8a-6dda-4502-b147-6dfa6997fc36",
   "metadata": {},
   "source": [
    "3.Given a string, reverse the order of characters using string slicing and print\n",
    "the reversed string."
   ]
  },
  {
   "cell_type": "code",
   "execution_count": 1,
   "id": "c5a6ff0c-e6fb-4186-94eb-87582526e8a6",
   "metadata": {},
   "outputs": [
    {
     "name": "stdin",
     "output_type": "stream",
     "text": [
      "Enter the string:  Karthick\n"
     ]
    },
    {
     "name": "stdout",
     "output_type": "stream",
     "text": [
      "Reversed string: kcihtraK\n"
     ]
    }
   ],
   "source": [
    "input_string = input(\"Enter the string: \")\n",
    "reversed_string = input_string[::-1]\n",
    "print(\"Reversed string:\", reversed_string)"
   ]
  },
  {
   "cell_type": "markdown",
   "id": "debdaf64-7fe8-45c2-82b1-0130e3dfa143",
   "metadata": {},
   "source": [
    "In this program, the slicing syntax [::-1] is used to reverse the string. Here's what happens:\n",
    "\n",
    "The [::-1] slicing notation means to start from the end of the string and move backward with a step size of -1, effectively reversing the string.\n",
    "\n",
    "The reversed string is stored in the variable reversed_string.\n",
    "\n",
    "Finally, the reversed string is printed using the print() function."
   ]
  },
  {
   "cell_type": "markdown",
   "id": "925fdd8e-a051-4cc7-aff5-1c0410d38aad",
   "metadata": {},
   "source": [
    "4.Write a program that takes a string as input and checks if it is a palindrome\n",
    "(reads the same forwards and backwards)."
   ]
  },
  {
   "cell_type": "code",
   "execution_count": 3,
   "id": "36aa144b-1d1f-4b1d-92d3-755c78ed2730",
   "metadata": {},
   "outputs": [
    {
     "name": "stdin",
     "output_type": "stream",
     "text": [
      "Enter a string:  cannot\n"
     ]
    },
    {
     "name": "stdout",
     "output_type": "stream",
     "text": [
      "The input string is not a palindrome.\n"
     ]
    }
   ],
   "source": [
    "input_string = input(\"Enter a string: \")\n",
    "cleaned_string = input_string.replace(\" \", \"\").lower()\n",
    "if cleaned_string == cleaned_string[::-1]:\n",
    "    print(\"The input string is a palindrome.\")\n",
    "else:\n",
    "    print(\"The input string is not a palindrome.\")"
   ]
  },
  {
   "cell_type": "markdown",
   "id": "1e8a0aca-0217-4b60-a00f-f6f07345fe60",
   "metadata": {},
   "source": [
    "The input() function is used to take a string as input from the user.\n",
    "replace(\" \", \"\") is used to remove spaces from the input string, and lower() is used to convert the string to lowercase. This ensures that the program is case-insensitive and ignores spaces.\n",
    "The program then checks if the cleaned string is equal to its reverse (cleaned_string[::-1]). If they are equal, the input string is a palindrome; otherwise, it is not.\n",
    "Depending on the result of the check, the program prints whether the input string is a palindrome or not."
   ]
  },
  {
   "cell_type": "code",
   "execution_count": 1,
   "id": "1cde1ff2-87ff-4bba-9572-9c75b0387152",
   "metadata": {},
   "outputs": [
    {
     "name": "stdin",
     "output_type": "stream",
     "text": [
      "Enter a string:  reverse the word\n"
     ]
    },
    {
     "name": "stdout",
     "output_type": "stream",
     "text": [
      "Modified string without spaces: reversetheword\n"
     ]
    }
   ],
   "source": [
    "input_string = input(\"Enter a string: \")\n",
    "modified_string = input_string.replace(\" \",\"\")\n",
    "print(\"Modified string without spaces:\", modified_string)"
   ]
  },
  {
   "cell_type": "markdown",
   "id": "87e71690-7bac-4d26-91dc-c0f75130243c",
   "metadata": {},
   "source": [
    "In this program, the input() function is used to take a string as input from the user. The replace(\" \", \"\") method is used to remove all spaces from the input string. The modified string without spaces is then stored in the variable modified_string and printed using the print() function."
   ]
  }
 ],
 "metadata": {
  "kernelspec": {
   "display_name": "Python 3 (ipykernel)",
   "language": "python",
   "name": "python3"
  },
  "language_info": {
   "codemirror_mode": {
    "name": "ipython",
    "version": 3
   },
   "file_extension": ".py",
   "mimetype": "text/x-python",
   "name": "python",
   "nbconvert_exporter": "python",
   "pygments_lexer": "ipython3",
   "version": "3.10.8"
  }
 },
 "nbformat": 4,
 "nbformat_minor": 5
}
